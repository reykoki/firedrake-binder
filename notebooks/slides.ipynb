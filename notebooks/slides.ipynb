{
 "cells": [
  {
   "cell_type": "markdown",
   "id": "78e972d6",
   "metadata": {
    "slideshow": {
     "slide_type": "slide"
    }
   },
   "source": [
    "<h2><center>Simulating Chaotic Rayleigh-Bénard Convection</center></h2>\n",
    "\n",
    "<h3><center>Rey Koki</center></h3>"
   ]
  },
  {
   "cell_type": "markdown",
   "id": "a07e6e0f",
   "metadata": {
    "cell_style": "split",
    "slideshow": {
     "slide_type": "slide"
    }
   },
   "source": [
    "## Lorenz\n",
    "\n",
    "- atmospheric convection\n",
    "- simple representation of Rayleigh-Bénard Convection\n",
    "\n",
    "\n",
    "\\begin{align} \n",
    "\\frac{dx}{dt} = \\sigma(y-x) \\\\\n",
    "\\frac{dy}{dt} = x(\\rho - z) - y \\\\\n",
    "\\frac{dy}{dt} = xy - \\beta z\n",
    "\\end{align}\n",
    "\n"
   ]
  },
  {
   "cell_type": "markdown",
   "id": "93cebd50",
   "metadata": {
    "cell_style": "split",
    "slideshow": {
     "slide_type": "fragment"
    }
   },
   "source": [
    "![lor](images/lorenz.gif \"segment\")\n",
    "\n",
    "<font size=\"1\">Dan Quinn, CC BY-SA 3.0 <https://creativecommons.org/licenses/by-sa/3.0>, via Wikimedia Commons\n",
    "</font>"
   ]
  },
  {
   "cell_type": "markdown",
   "id": "6129899d",
   "metadata": {
    "cell_style": "split",
    "slideshow": {
     "slide_type": "slide"
    }
   },
   "source": [
    "## Rayleigh-Bénard Convection\n",
    "\n",
    "- nonlinear\n",
    "- chaotic\n",
    "    - sensitivty to initial conditions \n",
    "    - certain non-deterministic effects\n",
    "     "
   ]
  },
  {
   "cell_type": "markdown",
   "id": "9602ce06",
   "metadata": {
    "cell_style": "split",
    "slideshow": {
     "slide_type": "fragment"
    }
   },
   "source": [
    "![benard](images/Benard-cells.gif \"segment\")\n",
    "\n",
    "<font size=\"1\"> M. Alcina Mendes. “Surfactant Effects on Mass Transfer in Liquid-Liquid Systems”. In:FluidMechanics of Surfactant and Polymer Solutions. Ed. by Victor Starov and Ivan Ivanov. Vienna:Springer Vienna, 2004, pp. 39–56.isbn: 978-3-7091-2766-7.</font>\n"
   ]
  },
  {
   "cell_type": "markdown",
   "id": "e1aad2a3-1416-4a7e-a3a1-29e6ea32068d",
   "metadata": {
    "cell_style": "split",
    "slideshow": {
     "slide_type": "slide"
    }
   },
   "source": [
    "## Rayleigh-Bénard Convection\n",
    "\n",
    "Consider the two cases:\n",
    "\n",
    "<h3><center>case 1:</center></h3>\n",
    "\\begin{align} \n",
    "T_0 < T_1\n",
    "\\end{align}\n",
    "\n",
    "\n",
    "![convection](images/no_convection.png)\n",
    "\n"
   ]
  },
  {
   "cell_type": "markdown",
   "id": "6bc2f684",
   "metadata": {
    "cell_style": "split",
    "slideshow": {
     "slide_type": "fragment"
    }
   },
   "source": [
    "\n",
    "\n",
    "&nbsp;\n",
    "\n",
    "&nbsp;\n",
    "\n",
    "\n",
    "\n",
    "<h3><center>case 2:</center></h3>\n",
    "\n",
    "\\begin{align} \n",
    "T_0 > T_1\n",
    "\\end{align}\n",
    "\n",
    "\n",
    "![convection](images/convection0.png)\n"
   ]
  },
  {
   "cell_type": "code",
   "execution_count": null,
   "id": "e3d63c4b",
   "metadata": {},
   "outputs": [],
   "source": []
  },
  {
   "cell_type": "markdown",
   "id": "e9c037dc",
   "metadata": {
    "cell_style": "split",
    "slideshow": {
     "slide_type": "slide"
    }
   },
   "source": [
    "## Rayleigh-Bénard Convection\n",
    "\n",
    "Consider the two cases:\n",
    "\n",
    "<h3><center>case 1:</center></h3>\n",
    "\\begin{align} \n",
    "T_0 < T_1\n",
    "\\end{align}\n",
    "\n",
    "\n",
    "![convection](images/no_convection.png)\n",
    "\n",
    "\n",
    "\n",
    "\n"
   ]
  },
  {
   "cell_type": "markdown",
   "id": "e68f9b7b",
   "metadata": {
    "cell_style": "split",
    "slideshow": {
     "slide_type": "fragment"
    }
   },
   "source": [
    "&nbsp;\n",
    "\n",
    "&nbsp;\n",
    "\n",
    "<h3><center>case 2:</center></h3>\n",
    "\n",
    "\\begin{align} \n",
    "T_0 > T_1\n",
    "\\end{align}\n",
    "\n",
    "\n",
    "![convection](convection.png)"
   ]
  },
  {
   "cell_type": "code",
   "execution_count": null,
   "id": "907467eb",
   "metadata": {},
   "outputs": [],
   "source": []
  },
  {
   "cell_type": "markdown",
   "id": "a8f65ab9",
   "metadata": {
    "cell_style": "split",
    "slideshow": {
     "slide_type": "slide"
    }
   },
   "source": [
    "## Constants\n",
    "\n",
    "<h3><center>two key physical parameters</center></h3>\n",
    "Rayleigh number $Ra$\n",
    "\n",
    "- amount of convection\n",
    "\n",
    "\\begin{align}\n",
    "Ra = \\frac{g \\alpha \\Delta T h^3}{\\nu \\kappa} \\\\\n",
    "\\end{align}\n",
    "\n",
    "Prandtl number $Pr$\n",
    "- ratio of viscosity to momentum\n",
    "\n",
    "\n",
    "\\begin{align}\n",
    "Pr = \\frac{\\nu}{k} \\\\\n",
    "\\end{align}\n"
   ]
  },
  {
   "cell_type": "markdown",
   "id": "43c1d712",
   "metadata": {
    "cell_style": "split",
    "slideshow": {
     "slide_type": "fragment"
    }
   },
   "source": [
    "&nbsp;\n",
    "\n",
    "&nbsp;\n",
    "\n",
    "\n",
    "&nbsp;\n",
    "\n",
    "&nbsp;\n",
    "\n",
    "\n",
    "&nbsp;\n",
    "\n",
    "&nbsp;\n",
    "\n",
    "&nbsp;\n",
    "\n",
    "\n",
    "\n",
    "- $\\kappa$ - thermal diffusivity\n",
    "- $\\nu$ - viscosity\n",
    "- $\\alpha$ - thermal expansion coefficient\n",
    "- $g$ - gravity"
   ]
  },
  {
   "cell_type": "markdown",
   "id": "2fc8150e",
   "metadata": {
    "cell_style": "split",
    "slideshow": {
     "slide_type": "slide"
    }
   },
   "source": [
    "\n",
    "## Equations for Convection\n",
    "\n",
    "#### Assumptions\n",
    "\n",
    "1. The liquid is shallow\n",
    "\n",
    "2. Pressure does not affect density\n",
    "\n",
    "3. The speed of the fluid is much less than the speed of sound\n",
    "\n",
    "- $Ra$ - Rayleigh number\n",
    "- $Pr$ - Prandtl number\n",
    "- $u$ - velocity\n",
    "- $p$ - pressure\n",
    "- $T$ - temperature\n"
   ]
  },
  {
   "cell_type": "markdown",
   "id": "2549d6c4",
   "metadata": {
    "cell_style": "split",
    "slideshow": {
     "slide_type": "fragment"
    }
   },
   "source": [
    "<h4><center>Momentum Conservation (Navier Stokes equation)</center></h4>\n",
    "\n",
    "\\begin{align} \n",
    "\\frac{\\partial u}{\\partial t} - \\Delta u + u \\cdot \\nabla u + \\nabla p + \\frac{Ra}{Pr} T =  0 \\\\\n",
    "\\end{align}\n",
    "\n",
    "<h4><center>Mass Conservation</center></h4>\n",
    "\n",
    "\\begin{align} \n",
    "\\nabla \\cdot u = 0 \\\\\n",
    "\\end{align}\n",
    "\n",
    "<h4><center>Energy Conservation</center></h4>\n",
    "\n",
    "\\begin{align} \n",
    "\\frac{\\partial T}{\\partial t} - \\frac{1}{Pr} \\Delta T +  u \\cdot \\nabla T = 0\n",
    "\\end{align}\n"
   ]
  },
  {
   "cell_type": "code",
   "execution_count": 1,
   "id": "b13f7f5a-3819-450b-972d-bc7af02c5ff5",
   "metadata": {
    "scrolled": true,
    "slideshow": {
     "slide_type": "skip"
    }
   },
   "outputs": [],
   "source": [
    "from firedrake import *\n",
    "from firedrake.petsc import PETSc\n",
    "import matplotlib.pyplot as plt"
   ]
  },
  {
   "cell_type": "markdown",
   "id": "36845d35",
   "metadata": {
    "cell_style": "split",
    "slideshow": {
     "slide_type": "slide"
    }
   },
   "source": [
    "### Boundary Conditions\n",
    "\n",
    "Heat is applied from bottom to top so that the temperature gradient is enforced parallel to the graviation.\n",
    "\n",
    "\n",
    "\n",
    "![convection](images/convection.png)\n",
    "\n"
   ]
  },
  {
   "cell_type": "markdown",
   "id": "04422690",
   "metadata": {
    "cell_style": "split",
    "slideshow": {
     "slide_type": "fragment"
    }
   },
   "source": [
    "\n",
    "\n",
    "<h4><center>Diriclet</center></h4>\n",
    "\n",
    "\n",
    "\\begin{equation}\n",
    "    u = 0, \\quad x = y = 0,1\n",
    "\\end{equation} \n",
    "\n",
    "\\begin{equation}\n",
    "    T = 1, \\quad y = 0\n",
    "\\end{equation}\n",
    "\n",
    "\\begin{equation}\n",
    "    T = 0, \\quad y = 1\n",
    "\\end{equation} \n",
    "\n",
    "<h4><center>Neumann (closed)</center></h4>\n",
    "\n",
    "\\begin{equation}\n",
    "    \\frac{\\partial T}{\\partial x} = 0 , \\quad x = 0,1\n",
    "\\end{equation} \n"
   ]
  },
  {
   "cell_type": "code",
   "execution_count": null,
   "id": "08e66fc1",
   "metadata": {
    "slideshow": {
     "slide_type": "skip"
    }
   },
   "outputs": [],
   "source": []
  },
  {
   "cell_type": "markdown",
   "id": "1278f22e",
   "metadata": {
    "cell_style": "split",
    "slideshow": {
     "slide_type": "slide"
    }
   },
   "source": [
    "## Mesh\n",
    "\n",
    "\n",
    "- unit square cells\n",
    "\n",
    "- define boundaries"
   ]
  },
  {
   "cell_type": "code",
   "execution_count": 2,
   "id": "eadfbedc",
   "metadata": {
    "cell_style": "split",
    "slideshow": {
     "slide_type": "fragment"
    }
   },
   "outputs": [
    {
     "data": {
      "image/png": "[encoded data removed]",
      "text/plain": [
       "<Figure size 432x288 with 1 Axes>"
      ]
     },
     "metadata": {
      "needs_background": "light"
     },
     "output_type": "display_data"
    }
   ],
   "source": [
    "N = 10\n",
    "mesh = UnitSquareMesh(N, N)\n",
    "fig, axes = plt.subplots()\n",
    "triplot(mesh, axes=axes)\n",
    "axes.legend();"
   ]
  },
  {
   "cell_type": "markdown",
   "id": "c0f3b3a7",
   "metadata": {
    "slideshow": {
     "slide_type": "slide"
    }
   },
   "source": [
    "## Initial Conditions\n",
    "\n",
    "**Temperature**\n",
    "\n",
    "\n",
    "gradient calculated from:\n",
    "\n",
    "> $T_o = 1$ and $T_1 = 0$\n",
    "\n",
    "**Velocity**\n",
    "\n",
    "> $u_o = 0$\n",
    "\n",
    "\n",
    "\n",
    "**Pressure**\n",
    "\n",
    "Calculated from $u_o$ and $T_o$\n",
    "\n"
   ]
  },
  {
   "cell_type": "markdown",
   "id": "5d2e138c",
   "metadata": {
    "cell_style": "split",
    "slideshow": {
     "slide_type": "slide"
    }
   },
   "source": [
    "## Results \n",
    "\n",
    "$Ra$ = 2e4    \n",
    "\n",
    "$Pr$ = 1\n",
    "\n",
    "dt = .1\n"
   ]
  },
  {
   "cell_type": "markdown",
   "id": "7eeed3ec",
   "metadata": {
    "cell_style": "split",
    "slideshow": {
     "slide_type": "fragment"
    }
   },
   "source": [
    "\n",
    "\n",
    "![SegmentLocal](images/results.gif \"segment\")"
   ]
  },
  {
   "cell_type": "markdown",
   "id": "c5e5222c",
   "metadata": {
    "slideshow": {
     "slide_type": "slide"
    }
   },
   "source": [
    "![SegmentLocal](ref.png \"segment\")"
   ]
  },
  {
   "cell_type": "code",
   "execution_count": null,
   "id": "610d0005",
   "metadata": {
    "slideshow": {
     "slide_type": "skip"
    }
   },
   "outputs": [],
   "source": []
  }
 ],
 "metadata": {
  "celltoolbar": "Slideshow",
  "kernelspec": {
   "display_name": "firedrake",
   "language": "python",
   "name": "firedrake"
  },
  "language_info": {
   "codemirror_mode": {
    "name": "ipython",
    "version": 3
   },
   "file_extension": ".py",
   "mimetype": "text/x-python",
   "name": "python",
   "nbconvert_exporter": "python",
   "pygments_lexer": "ipython3",
   "version": "3.8.5"
  }
 },
 "nbformat": 4,
 "nbformat_minor": 5
}
